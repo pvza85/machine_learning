{
 "cells": [
  {
   "cell_type": "code",
   "execution_count": 98,
   "metadata": {
    "collapsed": true
   },
   "outputs": [],
   "source": [
    "import numpy as np\n",
    "from  matplotlib import pyplot as plt\n",
    "\n",
    "%matplotlib inline"
   ]
  },
  {
   "cell_type": "code",
   "execution_count": 99,
   "metadata": {
    "collapsed": false
   },
   "outputs": [
    {
     "data": {
      "text/plain": [
       "<matplotlib.collections.PathCollection at 0x7f9caff02390>"
      ]
     },
     "execution_count": 99,
     "metadata": {},
     "output_type": "execute_result"
    },
    {
     "data": {
      "image/png": "[encoded data removed]",
      "text/plain": [
       "<matplotlib.figure.Figure at 0x7f9caffac990>"
      ]
     },
     "metadata": {},
     "output_type": "display_data"
    }
   ],
   "source": [
    "X = np.array([[0.2, 0.5, 0.4, 0.7, 0.8, 0.9, 1]])\n",
    "Y = np.array([[0, 0.4, 0.5, 0.6, 0.7, 0.9, 1.1]])\n",
    "plt.scatter(X,Y)"
   ]
  },
  {
   "cell_type": "code",
   "execution_count": 144,
   "metadata": {
    "collapsed": true
   },
   "outputs": [],
   "source": [
    "def DMatrix(X, degree):\n",
    "    \"\"\"\n",
    "    Calculate D matrix for given degree\n",
    "    \"\"\"\n",
    "    D = (X**0).T\n",
    "    #print D.shape\n",
    "    for i in range(1,degree+1):\n",
    "        D = np.concatenate((D, (X**i).T), axis=1)\n",
    "    return D"
   ]
  },
  {
   "cell_type": "code",
   "execution_count": 145,
   "metadata": {
    "collapsed": true
   },
   "outputs": [],
   "source": [
    "def fit(X, Y, degree):\n",
    "    \"\"\"\n",
    "    fit the regression line for given degree\n",
    "    \"\"\"\n",
    "    #caclucate D matrix\n",
    "    D = DMatrix(X, degree)\n",
    "    #cacluate weights\n",
    "    w = np.dot(np.dot(np.linalg.inv(np.dot(D.T, D)), D.T), Y.T)\n",
    "    #print 'w = ', w.T[0]\n",
    "    #return line fitted to w (reverse)\n",
    "    return np.poly1d(w.T[0][::-1])"
   ]
  },
  {
   "cell_type": "code",
   "execution_count": 114,
   "metadata": {
    "collapsed": false
   },
   "outputs": [
    {
     "name": "stdout",
     "output_type": "stream",
     "text": [
      "w =  [-0.16293103  1.18678161]\n",
      "w =  [ -2.30620525  19.48475446 -49.4560823   52.87264048 -19.50350763]\n"
     ]
    }
   ],
   "source": [
    "p = fit(X,Y, 1)\n",
    "p4 = fit(X,Y, 4)"
   ]
  },
  {
   "cell_type": "code",
   "execution_count": 106,
   "metadata": {
    "collapsed": false
   },
   "outputs": [
    {
     "name": "stdout",
     "output_type": "stream",
     "text": [
      "-3.72327586207\n",
      "5.77097701149\n"
     ]
    }
   ],
   "source": [
    "print p(-3)\n",
    "print p(5)"
   ]
  },
  {
   "cell_type": "code",
   "execution_count": 105,
   "metadata": {
    "collapsed": false
   },
   "outputs": [
    {
     "data": {
      "text/plain": [
       "(-0.1, 1.1)"
      ]
     },
     "execution_count": 105,
     "metadata": {},
     "output_type": "execute_result"
    },
    {
     "data": {
      "image/png": "[encoded data removed]",
      "text/plain": [
       "<matplotlib.figure.Figure at 0x7f9cafd95e50>"
      ]
     },
     "metadata": {},
     "output_type": "display_data"
    }
   ],
   "source": [
    "xp = np.linspace(0, 1, 100)\n",
    "_ = plt.plot(X, Y, '.', xp,p(xp), '-', xp, p4(xp), '--')\n",
    "plt.ylim(-0.1,1.1)"
   ]
  },
  {
   "cell_type": "code",
   "execution_count": 115,
   "metadata": {
    "collapsed": true
   },
   "outputs": [],
   "source": [
    "def g_hat(X,x,g):\n",
    "    s = 0\n",
    "    for i in X:\n",
    "        s = s + g(i)\n",
    "    return s / X.size"
   ]
  },
  {
   "cell_type": "code",
   "execution_count": 156,
   "metadata": {
    "collapsed": false
   },
   "outputs": [],
   "source": [
    "P1 = []\n",
    "P4 = []\n",
    "for i in range(0,X.size):\n",
    "    x = np.delete(X,i,1)\n",
    "    y = np.delete(Y,i,1)\n",
    "    P1.append(fit(x,y,1))\n",
    "    P4.append(fit(x,y,4))\n",
    "\n"
   ]
  },
  {
   "cell_type": "code",
   "execution_count": 169,
   "metadata": {
    "collapsed": false
   },
   "outputs": [],
   "source": [
    "G1_hat = []\n",
    "G4_hat = []\n",
    "for i in range(0,X.size):\n",
    "    sum1 = 0.0\n",
    "    sum4 = 0.0\n",
    "    for j in range(0, len(P1)):\n",
    "        sum1 += P1[j](X[0][i])\n",
    "        sum4 += P4[j](X[0][i])\n",
    "    G1_hat.append(sum1 / len(P1))\n",
    "    G4_hat.append(sum1 / len(P4))"
   ]
  },
  {
   "cell_type": "code",
   "execution_count": 172,
   "metadata": {
    "collapsed": false
   },
   "outputs": [
    {
     "name": "stdout",
     "output_type": "stream",
     "text": [
      "variance of degree1: 0.000823518422483\n",
      "variance of degree4: 0.0618045253467\n"
     ]
    }
   ],
   "source": [
    "sum1 = 0.0\n",
    "sum4 = 0.0\n",
    "for i in range(0,X.size):\n",
    "    for j in range(0, len(P1)):\n",
    "        sum1 += (P1[j](X[0][i]) - G1_hat[i])**2\n",
    "        sum4 += (P4[j](X[0][i]) - G4_hat[i])**2\n",
    "variance1 = 1.0/(X.size*len(P1)) * sum1\n",
    "variance4 = 1.0/(X.size*len(P4)) * sum4\n",
    "print 'variance of degree1:', variance1\n",
    "print 'variance of degree4:', variance4"
   ]
  },
  {
   "cell_type": "code",
   "execution_count": 175,
   "metadata": {
    "collapsed": true
   },
   "outputs": [],
   "source": [
    "def func(x):\n",
    "    return 0.5 * np.exp(-1 * np.abs(x))"
   ]
  },
  {
   "cell_type": "code",
   "execution_count": 176,
   "metadata": {
    "collapsed": false
   },
   "outputs": [
    {
     "data": {
      "image/png": "[encoded data removed]",
      "text/plain": [
       "<matplotlib.figure.Figure at 0x7f9cafb8fb90>"
      ]
     },
     "metadata": {},
     "output_type": "display_data"
    }
   ],
   "source": [
    "\n",
    "xp = np.linspace(-5, 5, 500)\n",
    "_ = plt.plot(xp,func(xp), '-')"
   ]
  },
  {
   "cell_type": "code",
   "execution_count": null,
   "metadata": {
    "collapsed": true
   },
   "outputs": [],
   "source": []
  }
 ],
 "metadata": {
  "kernelspec": {
   "display_name": "Python 2",
   "language": "python",
   "name": "python2"
  },
  "language_info": {
   "codemirror_mode": {
    "name": "ipython",
    "version": 2
   },
   "file_extension": ".py",
   "mimetype": "text/x-python",
   "name": "python",
   "nbconvert_exporter": "python",
   "pygments_lexer": "ipython2",
   "version": "2.7.12"
  }
 },
 "nbformat": 4,
 "nbformat_minor": 0
}
