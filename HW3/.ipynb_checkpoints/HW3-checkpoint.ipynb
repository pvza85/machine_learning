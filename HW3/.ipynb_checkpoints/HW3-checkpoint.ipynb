{
 "cells": [
  {
   "cell_type": "markdown",
   "metadata": {},
   "source": [
    "# Q1)"
   ]
  },
  {
   "cell_type": "code",
   "execution_count": 2,
   "metadata": {
    "collapsed": false
   },
   "outputs": [
    {
     "name": "stdout",
     "output_type": "stream",
     "text": [
      "(200, 7)\n"
     ]
    },
    {
     "data": {
      "text/plain": [
       "array([[ 214.8,  131. ,  131.1, ...,    9.7,  141. ,    1. ],\n",
       "       [ 214.6,  129.7,  129.7, ...,    9.5,  141.7,    1. ],\n",
       "       [ 214.8,  129.7,  129.7, ...,    9.6,  142.2,    1. ],\n",
       "       ..., \n",
       "       [ 214.8,  130.3,  130.4, ...,   11.1,  140. ,   -1. ],\n",
       "       [ 214.7,  130.7,  130.8, ...,   11.2,  139.4,   -1. ],\n",
       "       [ 214.3,  129.9,  129.9, ...,   11.5,  139.6,   -1. ]])"
      ]
     },
     "execution_count": 2,
     "metadata": {},
     "output_type": "execute_result"
    }
   ],
   "source": [
    "import numpy as np\n",
    "\n",
    "data = np.loadtxt(\"Swiss.txt\")\n",
    "print data.shape\n",
    "\n",
    "data"
   ]
  },
  {
   "cell_type": "markdown",
   "metadata": {},
   "source": [
    "# Q2)"
   ]
  },
  {
   "cell_type": "code",
   "execution_count": 6,
   "metadata": {
    "collapsed": false
   },
   "outputs": [
    {
     "name": "stdout",
     "output_type": "stream",
     "text": [
      "(1500, 2)\n"
     ]
    },
    {
     "data": {
      "text/plain": [
       "array([[-1.25083749, -1.81664346],\n",
       "       [ 1.23771722, -2.78915097],\n",
       "       [ 1.52816463,  0.26241461],\n",
       "       ..., \n",
       "       [-3.91246937,  3.1299697 ],\n",
       "       [-3.02818624,  2.92803806],\n",
       "       [-2.64705065,  3.89091266]])"
      ]
     },
     "execution_count": 6,
     "metadata": {},
     "output_type": "execute_result"
    }
   ],
   "source": [
    "import scipy.io as sio\n",
    "data = sio.loadmat('q3.mat')['Xtest']\n",
    "print data.shape\n",
    "data"
   ]
  },
  {
   "cell_type": "markdown",
   "metadata": {},
   "source": [
    "# Q3)"
   ]
  },
  {
   "cell_type": "code",
   "execution_count": null,
   "metadata": {
    "collapsed": true
   },
   "outputs": [],
   "source": []
  }
 ],
 "metadata": {
  "kernelspec": {
   "display_name": "Python 2",
   "language": "python",
   "name": "python2"
  },
  "language_info": {
   "codemirror_mode": {
    "name": "ipython",
    "version": 2
   },
   "file_extension": ".py",
   "mimetype": "text/x-python",
   "name": "python",
   "nbconvert_exporter": "python",
   "pygments_lexer": "ipython2",
   "version": "2.7.12"
  }
 },
 "nbformat": 4,
 "nbformat_minor": 0
}
