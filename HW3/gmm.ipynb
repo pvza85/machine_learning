{
 "cells": [
  {
   "cell_type": "code",
   "execution_count": 13,
   "metadata": {
    "collapsed": true
   },
   "outputs": [],
   "source": [
    "import numpy as np\n",
    "from scipy import linalg\n",
    "\n",
    "import matplotlib.pyplot as plt\n",
    "%matplotlib inline"
   ]
  },
  {
   "cell_type": "code",
   "execution_count": 28,
   "metadata": {
    "collapsed": true
   },
   "outputs": [],
   "source": [
    "reg_covar = 1e-6\n",
    "tol = 1e-3\n",
    "def estimate_gaussian_covariances(resp, X, nk, means, reg_covar):\n",
    "    n_components, n_features = means.shape\n",
    "    covariances = np.empty((n_components, n_features, n_features))\n",
    "    for k in range(n_components):\n",
    "        diff = X - means[k]\n",
    "        covariances[k] = np.dot(resp[:, k] * diff.T, diff) / nk[k]\n",
    "        covariances[k].flat[::n_features + 1] += reg_covar\n",
    "    return covariances\n",
    "def compute_precision(covariances):\n",
    "    n_components, n_features, _ = covariances.shape\n",
    "    precisions = np.empty((n_components, n_features, n_features))\n",
    "    for k, covariance in enumerate(covariances):\n",
    "        try:\n",
    "            cov = linalg.cholesky(covariance, lower=True)\n",
    "        except linalg.LinAlgError:\n",
    "            raise ValueError(estimate_precision_error_message)\n",
    "        precisions[k] = linalg.solve_triangular(cov, np.eye(n_features), lower=True).T\n",
    "    return precisions\n",
    "def estimate_gaussian_parameters(X, resp, reg_covar):\n",
    "    nk = resp.sum(axis=0) + 10 * np.finfo(resp.dtype).eps\n",
    "    means = np.dot(resp.T, X) / nk[:, np.newaxis]\n",
    "    covariances =  estimate_gaussian_covariances(resp, X, nk, means, reg_covar)\n",
    "    return nk, means, covariances\n",
    "def logsumexp(arr, axis=0):\n",
    "    arr = np.rollaxis(arr, axis)\n",
    "    # Use the max to normalize, as with the log this is what accumulates\n",
    "    # the less errors\n",
    "    vmax = arr.max(axis=0)\n",
    "    out = np.log(np.sum(np.exp(arr - vmax), axis=0))\n",
    "    out += vmax\n",
    "    return out\n",
    "def _compute_log_det(matrix,  n_features):\n",
    "\n",
    "    n_components, _, _ = matrix.shape\n",
    "    log_det = (np.sum(np.log(matrix.reshape(n_components, -1)[:, ::n_features + 1]), 1))\n",
    "\n",
    "    return log_det\n",
    "\n",
    "def _estimate_log_prob(X, means, precisions):\n",
    "    n_samples, n_features = X.shape\n",
    "    n_components, _ = means.shape\n",
    "    # det(precision_chol) is half of det(precision)\n",
    "    log_det = _compute_log_det(precisions, n_features)\n",
    "\n",
    "    log_prob = np.empty((n_samples, n_components))\n",
    "    for k, (mu, prec_chol) in enumerate(zip(means, precisions)):\n",
    "        y = np.dot(X, prec_chol) - np.dot(mu, prec_chol)\n",
    "        log_prob[:, k] = np.sum(np.square(y), axis=1)\n",
    "    return -.5 * (n_features * np.log(2 * np.pi) + log_prob) + log_det\n",
    "\n",
    "def _estimate_weighted_log_prob( X, means, precisions, weights):\n",
    "    return _estimate_log_prob(X, means, precisions) + np.log(weights)\n",
    "\n",
    "def _estimate_log_prob_resp( X, means, precisions, weights):\n",
    "    weighted_log_prob = _estimate_weighted_log_prob(X, means, precisions, weights)\n",
    "    log_prob_norm = logsumexp(weighted_log_prob, axis=1)\n",
    "    with np.errstate(under='ignore'):\n",
    "        # ignore underflow\n",
    "        log_resp = weighted_log_prob - log_prob_norm[:, np.newaxis]\n",
    "    return log_prob_norm, log_resp\n",
    "\n",
    "def _e_step( X, means, precision, weights):\n",
    "    log_prob_norm, log_resp = _estimate_log_prob_resp(X, means, precision, weights)\n",
    "    return np.mean(log_prob_norm), log_resp\n",
    "def _m_step( X, log_resp, means, precisions, weights, covariances, reg_covar):\n",
    "    n_samples, _ = X.shape\n",
    "    weights, means, covariances = (estimate_gaussian_parameters(X, np.exp(log_resp),reg_covar))\n",
    "    weights /= n_samples\n",
    "    precisions1 = compute_precision(covariances)\n",
    "\n",
    "    # Attributes computation\n",
    "    _, n_features = means.shape\n",
    "\n",
    "    precisions_ = np.empty(precisions1.shape)\n",
    "    for k, prec in enumerate(precisions1):\n",
    "        precisions_[k] = np.dot(prec, prec.T)\n",
    "        \n",
    "    return weights, means, covariances, precisions\n",
    "def initialize_parameters(X, random_state, k):\n",
    "    n_samples, _ = X.shape\n",
    "\n",
    "    resp = np.random.mtrand._rand.rand(n_samples, k)\n",
    "    resp /= resp.sum(axis=1)[:, np.newaxis]\n",
    "\n",
    "    weights, means, covariances = estimate_gaussian_parameters(X, resp, reg_covar)\n",
    "    weights /= n_samples\n",
    "\n",
    "    precisions = compute_precision(covariances)\n",
    "    \n",
    "    return weights, means, covariances, precisions\n",
    "def gmm(X, k, max_iter = 100):\n",
    "    predict = []\n",
    "    means = []\n",
    "    covariances = []\n",
    "\n",
    "    \n",
    "    \n",
    "    max_lower_bound = -np.infty\n",
    "    converged_ = False\n",
    "\n",
    "    random_state = None #check_random_state(random_state)\n",
    "\n",
    "    n_samples, _ = X.shape\n",
    "    \n",
    "    \n",
    "    weights, means, covariances, precisions = initialize_parameters(X, random_state, k)\n",
    "    lower_bound_ = -np.infty\n",
    "\n",
    "    for n_iter in range(max_iter):\n",
    "        prev_lower_bound = lower_bound_\n",
    "\n",
    "        log_prob_norm, log_resp = _e_step(X, means, precisions, weights)\n",
    "        weights, means, covarainces, precisions = _m_step(X, log_resp, means, precisions, weights, covariances, reg_covar)\n",
    "        lower_bound_ =  log_prob_norm\n",
    "\n",
    "        change = lower_bound_ - prev_lower_bound\n",
    "\n",
    "        if abs(change) < tol:\n",
    "            converged_ = True\n",
    "            break\n",
    "        \n",
    "    predict = _estimate_weighted_log_prob(X, means, precisions, weights).argmax(axis=1)\n",
    "    return predict, means, covariances"
   ]
  },
  {
   "cell_type": "code",
   "execution_count": 29,
   "metadata": {
    "collapsed": false
   },
   "outputs": [],
   "source": [
    "import scipy.io as sio\n",
    "data = sio.loadmat('q3.mat')['Xtest']\n",
    "#print data.shape\n",
    "#plt.scatter(data[:,0], data[:,1])\n",
    "\n",
    "predict, means, covariances = gmm(data, k = 3)"
   ]
  },
  {
   "cell_type": "code",
   "execution_count": 34,
   "metadata": {
    "collapsed": false
   },
   "outputs": [
    {
     "data": {
      "image/png": "[encoded data removed]",
      "text/plain": [
       "<matplotlib.figure.Figure at 0x7ff4224dbbd0>"
      ]
     },
     "metadata": {},
     "output_type": "display_data"
    }
   ],
   "source": [
    "import itertools\n",
    "import matplotlib as mpl\n",
    "from sklearn import mixture\n",
    "\n",
    "color_iter = itertools.cycle(['navy', 'c', 'cornflowerblue', 'gold',\n",
    "                              'darkorange'])\n",
    "\n",
    "\n",
    "def plot_results(X, Y, means, covariances, index, title):\n",
    "    splot = plt.subplot(1, 1, 1 + index)\n",
    "    for i, (mean, covar, color) in enumerate(zip(\n",
    "            means, covariances, color_iter)):\n",
    "        v, w = linalg.eigh(covar)\n",
    "        v = 2. * np.sqrt(2.) * np.sqrt(v)\n",
    "        u = w[0] / linalg.norm(w[0])\n",
    "        # as the DP will not use every component it has access to\n",
    "        # unless it needs it, we shouldn't plot the redundant\n",
    "        # components.\n",
    "        if not np.any(Y == i):\n",
    "            continue\n",
    "        plt.scatter(X[Y == i, 0], X[Y == i, 1], .8, color=color)\n",
    "\n",
    "        # Plot an ellipse to show the Gaussian component\n",
    "        angle = np.arctan(u[1] / u[0])\n",
    "        angle = 180. * angle / np.pi  # convert to degrees\n",
    "        ell = mpl.patches.Ellipse(mean, v[0], v[1], 180. + angle, color=color)\n",
    "        ell.set_clip_box(splot.bbox)\n",
    "        ell.set_alpha(0.5)\n",
    "        splot.add_artist(ell)\n",
    "\n",
    "    plt.xlim(-6., 4. * np.pi - 6.)\n",
    "    plt.ylim(-5., 5.)\n",
    "    plt.title(title)\n",
    "    plt.xticks(())\n",
    "    plt.yticks(())\n",
    "    \n",
    "\n",
    "plot_results(data, predict, means, covariances, 0,\n",
    "             'Expectation-maximization')"
   ]
  },
  {
   "cell_type": "code",
   "execution_count": 35,
   "metadata": {
    "collapsed": false
   },
   "outputs": [],
   "source": [
    "# Fit a Gaussian mixture with EM using ten components\n",
    "gmm = mixture.GaussianMixture(n_components=2, covariance_type='full',\n",
    "                              max_iter=100).fit(data)\n",
    "predict = gmm.predict(data)\n",
    "means = gmm.means_\n",
    "covariances = gmm.covariances_"
   ]
  },
  {
   "cell_type": "code",
   "execution_count": null,
   "metadata": {
    "collapsed": true
   },
   "outputs": [],
   "source": []
  }
 ],
 "metadata": {
  "kernelspec": {
   "display_name": "Python 2",
   "language": "python",
   "name": "python2"
  },
  "language_info": {
   "codemirror_mode": {
    "name": "ipython",
    "version": 2
   },
   "file_extension": ".py",
   "mimetype": "text/x-python",
   "name": "python",
   "nbconvert_exporter": "python",
   "pygments_lexer": "ipython2",
   "version": "2.7.12"
  }
 },
 "nbformat": 4,
 "nbformat_minor": 1
}
